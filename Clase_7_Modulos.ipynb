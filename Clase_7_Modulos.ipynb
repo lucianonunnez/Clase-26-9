{
 "cells": [
  {
   "cell_type": "markdown",
   "id": "1021c446",
   "metadata": {},
   "source": [
    "\n",
    "# 🐍 Clase 7: Módulos y reutilización de código\n",
    "\n",
    "En esta clase veremos cómo **organizar y reutilizar nuestro código en Python** usando módulos y paquetes.\n",
    "\n",
    "---\n"
   ]
  },
  {
   "cell_type": "markdown",
   "id": "2392d69b",
   "metadata": {},
   "source": [
    "\n",
    "## 1. ¿Qué es un módulo?\n",
    "\n",
    "Un **módulo** en Python es simplemente un archivo `.py` que contiene funciones, clases o variables que se pueden **importar** en otros programas.\n",
    "\n",
    "Esto nos ayuda a:\n",
    "\n",
    "- Organizar mejor el código.\n",
    "- Evitar repetir funciones.\n",
    "- Reutilizar código en múltiples proyectos.\n",
    "\n",
    "---\n"
   ]
  },
  {
   "cell_type": "code",
   "execution_count": 3,
   "id": "903c9a9d",
   "metadata": {},
   "outputs": [],
   "source": [
    "\n",
    "# archivo: saludos.py\n",
    "def hola(nombre):\n",
    "    return f\"Hola {nombre}!\"\n",
    "\n",
    "def adios(nombre):\n",
    "    return f\"Chau {nombre}!\"\n"
   ]
  },
  {
   "cell_type": "code",
   "execution_count": 4,
   "id": "c14c3a9a",
   "metadata": {},
   "outputs": [
    {
     "ename": "ModuleNotFoundError",
     "evalue": "No module named 'saludos'",
     "output_type": "error",
     "traceback": [
      "\u001b[31m---------------------------------------------------------------------------\u001b[39m",
      "\u001b[31mModuleNotFoundError\u001b[39m                       Traceback (most recent call last)",
      "\u001b[36mCell\u001b[39m\u001b[36m \u001b[39m\u001b[32mIn[4]\u001b[39m\u001b[32m, line 2\u001b[39m\n\u001b[32m      1\u001b[39m \u001b[38;5;66;03m# archivo principal: app.py\u001b[39;00m\n\u001b[32m----> \u001b[39m\u001b[32m2\u001b[39m \u001b[38;5;28;01mimport\u001b[39;00m\u001b[38;5;250m \u001b[39m\u001b[34;01msaludos\u001b[39;00m\n\u001b[32m      4\u001b[39m \u001b[38;5;28mprint\u001b[39m(saludos.hola(\u001b[33m\"\u001b[39m\u001b[33mLuciano\u001b[39m\u001b[33m\"\u001b[39m))\n\u001b[32m      5\u001b[39m \u001b[38;5;28mprint\u001b[39m(saludos.adios(\u001b[33m\"\u001b[39m\u001b[33mLuciano\u001b[39m\u001b[33m\"\u001b[39m))\n",
      "\u001b[31mModuleNotFoundError\u001b[39m: No module named 'saludos'"
     ]
    }
   ],
   "source": [
    "\n",
    "# archivo principal: app.py\n",
    "import saludos\n",
    "\n",
    "print(saludos.hola(\"Luciano\"))\n",
    "print(saludos.adios(\"Luciano\"))\n"
   ]
  },
  {
   "cell_type": "markdown",
   "id": "6f79e2d8",
   "metadata": {},
   "source": [
    "\n",
    "## 2. Tipos de módulos en Python\n",
    "\n",
    "1. **Módulos internos (estándar):** vienen con Python (`math`, `random`, `datetime`).\n",
    "2. **Módulos externos:** se instalan con `pip` (`requests`, `numpy`, `flask`).\n",
    "3. **Módulos propios:** los que creamos nosotros.\n",
    "\n",
    "---\n"
   ]
  },
  {
   "cell_type": "code",
   "execution_count": null,
   "id": "c585bf02",
   "metadata": {},
   "outputs": [
    {
     "name": "stdout",
     "output_type": "stream",
     "text": [
      "4.0\n",
      "3.141592653589793\n"
     ]
    }
   ],
   "source": [
    "\n",
    "import math\n",
    "\n",
    "\n",
    "# Documentación de math\n",
    "# https://docs.python.org/es/3.10/library/math.html\n",
    "\n",
    "print(math.sqrt(16))   # raíz cuadrada\n",
    "print(math.pi)         # constante pi\n"
   ]
  },
  {
   "cell_type": "markdown",
   "id": "dd579c18",
   "metadata": {},
   "source": [
    "\n",
    "## 3. Formas de importar módulos\n",
    "\n",
    "### a) Importación completa\n",
    "```python\n",
    "import math\n",
    "print(math.sqrt(25))\n",
    "```\n",
    "\n",
    "### b) Importación con alias\n",
    "```python\n",
    "import math as m\n",
    "print(m.sqrt(25))\n",
    "```\n",
    "\n",
    "### c) Importar funciones específicas\n",
    "```python\n",
    "from math import sqrt, pi\n",
    "print(sqrt(36))\n",
    "print(pi)\n",
    "```\n",
    "\n",
    "### d) Importar todo (⚠️ no recomendado)\n",
    "```python\n",
    "from math import *\n",
    "print(sin(3.14))\n",
    "```\n"
   ]
  },
  {
   "cell_type": "markdown",
   "id": "c7f05c84",
   "metadata": {},
   "source": [
    "\n",
    "## 4. Creación de nuestros propios módulos\n",
    "\n",
    "1. Creamos un archivo `operaciones.py`:\n",
    "\n",
    "```python\n",
    "def sumar(a, b):\n",
    "    return a + b\n",
    "\n",
    "def restar(a, b):\n",
    "    return a - b\n",
    "```\n",
    "\n",
    "2. Lo usamos en otro archivo `main.py`:\n",
    "\n",
    "```python\n",
    "import operaciones\n",
    "\n",
    "print(operaciones.sumar(10, 5))\n",
    "print(operaciones.restar(10, 5))\n",
    "```\n"
   ]
  },
  {
   "cell_type": "markdown",
   "id": "bffa9a80",
   "metadata": {},
   "source": [
    "\n",
    "## 5. La variable `__name__`\n",
    "\n",
    "Sirve para diferenciar si un archivo se **ejecuta directamente** o si se está **importando como módulo**.\n",
    "\n",
    "```python\n",
    "# archivo: utilidades.py\n",
    "def saludar():\n",
    "    print(\"Hola desde utilidades!\")\n",
    "\n",
    "if __name__ == \"__main__\":\n",
    "    print(\"Ejecutado directamente\")\n",
    "else:\n",
    "    print(\"Importado como módulo\")\n",
    "```\n"
   ]
  },
  {
   "cell_type": "markdown",
   "id": "303b572b",
   "metadata": {},
   "source": [
    "\n",
    "## 6. Paquetes en Python\n",
    "\n",
    "Un **paquete** es una carpeta con varios módulos y un archivo especial `__init__.py`.\n",
    "\n",
    "📂 Estructura:\n",
    "\n",
    "```\n",
    "mi_paquete/\n",
    "    __init__.py\n",
    "    operaciones.py\n",
    "    saludos.py\n",
    "```\n",
    "\n",
    "Ejemplo de uso:\n",
    "\n",
    "```python\n",
    "from mi_paquete import operaciones, saludos\n",
    "\n",
    "print(operaciones.sumar(4, 6))\n",
    "print(saludos.hola(\"Ana\"))\n",
    "```\n"
   ]
  },
  {
   "cell_type": "markdown",
   "id": "104427e3",
   "metadata": {},
   "source": [
    "\n",
    "## 7. Buenas prácticas\n",
    "\n",
    "- Nombrar módulos en **minúsculas** y sin espacios.\n",
    "- Mantener funciones cortas y claras.\n",
    "- Separar responsabilidades: cálculos, utilidades, etc.\n",
    "- Reutilizar en vez de copiar/pegar código.\n",
    "\n",
    "---\n"
   ]
  },
  {
   "cell_type": "markdown",
   "id": "fd84f216",
   "metadata": {},
   "source": [
    "\n",
    "## 8. 📝 Actividad práctica\n",
    "\n",
    "1. Crear un módulo `calculadora.py` con funciones:\n",
    "   - suma, resta, multiplicación, división.\n",
    "2. Crear un archivo `main.py` que importe ese módulo y muestre un menú interactivo.\n",
    "3. (Opcional) Armar un paquete con `calculadora.py` y `saludos.py`.\n",
    "\n",
    "---\n"
   ]
  },
  {
   "cell_type": "markdown",
   "id": "91776121",
   "metadata": {},
   "source": [
    "\n",
    "## 9. Cierre de la clase\n",
    "\n",
    "- Aprendimos qué son los módulos y cómo importarlos.\n",
    "- Creamos nuestros propios módulos y paquetes.\n",
    "- Vimos cómo organizar mejor el código en proyectos grandes.\n",
    "\n",
    "👉 Próxima clase: **Archivos y persistencia de datos**.\n"
   ]
  }
 ],
 "metadata": {
  "kernelspec": {
   "display_name": ".venv",
   "language": "python",
   "name": "python3"
  },
  "language_info": {
   "codemirror_mode": {
    "name": "ipython",
    "version": 3
   },
   "file_extension": ".py",
   "mimetype": "text/x-python",
   "name": "python",
   "nbconvert_exporter": "python",
   "pygments_lexer": "ipython3",
   "version": "3.11.9"
  }
 },
 "nbformat": 4,
 "nbformat_minor": 5
}
